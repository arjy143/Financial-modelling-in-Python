{
 "cells": [
  {
   "cell_type": "markdown",
   "metadata": {},
   "source": [
    "CAPM limitations include use of mean-variance framework, and the fact that returns are captured by only the market risk factor. In a well diversified portfolio, unsystematic risk of various stocks cancels out and is essentially eliminated.\n",
    "\n",
    "Arbitrage Pricing Theory (APT) model was offered to address these shortcomings. Offers a general approach of determining asset prices other than mean and variances."
   ]
  },
  {
   "cell_type": "markdown",
   "metadata": {},
   "source": [
    "Include multiple factors:\n",
    "$$E[R_{i}] = \\alpha_{i} + \\beta_{i,1}F_{1} + \\beta_{i,2}F_{2} + ... + \\beta_{i,j}F_{j}$$"
   ]
  },
  {
   "cell_type": "markdown",
   "metadata": {},
   "source": [
    "E[R] is the expected rate of return on security i, alpha is expected return on stock i if all factors are negligible,beta is sensitivity of ith asset on jth factor, and F is value of jth factor influencing return on stock i.\n",
    "To find all values of alpha and beta, we will perform a multivariate linear regression."
   ]
  },
  {
   "cell_type": "code",
   "execution_count": 7,
   "metadata": {},
   "outputs": [
    {
     "name": "stdout",
     "output_type": "stream",
     "text": [
      "                            OLS Regression Results                            \n",
      "==============================================================================\n",
      "Dep. Variable:                      y   R-squared:                       0.574\n",
      "Model:                            OLS   Adj. R-squared:                 -2.406\n",
      "Method:                 Least Squares   F-statistic:                    0.1927\n",
      "Date:                Wed, 22 Jan 2025   Prob (F-statistic):              0.943\n",
      "Time:                        19:14:44   Log-Likelihood:                 2.2115\n",
      "No. Observations:                   9   AIC:                             11.58\n",
      "Df Residuals:                       1   BIC:                             13.15\n",
      "Df Model:                           7                                         \n",
      "Covariance Type:            nonrobust                                         \n",
      "==============================================================================\n",
      "                 coef    std err          t      P>|t|      [0.025      0.975]\n",
      "------------------------------------------------------------------------------\n",
      "const         -1.7916      4.082     -0.439      0.737     -53.661      50.077\n",
      "x1             0.4423      0.955      0.463      0.724     -11.697      12.582\n",
      "x2             0.1247      2.694      0.046      0.971     -34.105      34.354\n",
      "x3             1.3774      1.664      0.828      0.560     -19.764      22.519\n",
      "x4            -0.2315      1.661     -0.139      0.912     -21.342      20.879\n",
      "x5             1.9993      4.934      0.405      0.755     -60.690      64.689\n",
      "x6            -1.1860      2.808     -0.422      0.746     -36.868      34.496\n",
      "x7             1.2240      1.895      0.646      0.635     -22.856      25.304\n",
      "==============================================================================\n",
      "Omnibus:                        0.759   Durbin-Watson:                   2.367\n",
      "Prob(Omnibus):                  0.684   Jarque-Bera (JB):                0.011\n",
      "Skew:                          -0.080   Prob(JB):                        0.994\n",
      "Kurtosis:                       2.933   Cond. No.                         74.9\n",
      "==============================================================================\n",
      "\n",
      "Notes:\n",
      "[1] Standard Errors assume that the covariance matrix of the errors is correctly specified.\n",
      "[-1.79157989  0.44228353  0.12471984  1.37743885 -0.23150491  1.99927214\n",
      " -1.18604769  1.22395108]\n"
     ]
    },
    {
     "name": "stderr",
     "output_type": "stream",
     "text": [
      "C:\\Users\\A\\AppData\\Local\\Packages\\PythonSoftwareFoundation.Python.3.12_qbz5n2kfra8p0\\LocalCache\\local-packages\\Python312\\site-packages\\scipy\\stats\\_axis_nan_policy.py:531: UserWarning: kurtosistest only valid for n>=20 ... continuing anyway, n=9\n",
      "  res = hypotest_fun_out(*samples, **kwds)\n"
     ]
    }
   ],
   "source": [
    "import numpy as np\n",
    "import statsmodels.api as sm\n",
    "\n",
    "num_periods = 9\n",
    "all_values = np.array([np.random.random(8) for i in range(num_periods)])\n",
    "\n",
    "y_values = all_values[:,0]\n",
    "x_values = all_values[:,1:]\n",
    "\n",
    "x_values = sm.add_constant(x_values)\n",
    "results = sm.OLS(y_values, x_values).fit()\n",
    "\n",
    "print(results.summary())\n",
    "print(results.params)"
   ]
  }
 ],
 "metadata": {
  "kernelspec": {
   "display_name": "Python 3",
   "language": "python",
   "name": "python3"
  },
  "language_info": {
   "codemirror_mode": {
    "name": "ipython",
    "version": 3
   },
   "file_extension": ".py",
   "mimetype": "text/x-python",
   "name": "python",
   "nbconvert_exporter": "python",
   "pygments_lexer": "ipython3",
   "version": "3.12.8"
  }
 },
 "nbformat": 4,
 "nbformat_minor": 2
}
