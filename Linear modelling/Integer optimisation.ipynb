{
 "cells": [
  {
   "cell_type": "markdown",
   "metadata": {},
   "source": [
    "This is the same as linear except with the additional constraint that all variables are restricted to integers. "
   ]
  },
  {
   "cell_type": "markdown",
   "metadata": {},
   "source": [
    "Example:\n",
    "\n",
    "3 dealers, X, Y, and Z.<br>\n",
    "You need to go for 150 contracts in a particular security.<br>\n",
    "Dealer X quotes $500 per contract + handling fee of $4000.<br>\n",
    "Dealer Y charges $450 per contract + transaction fee $2000.<br>\n",
    "Dealer Z charges $450 + fee of $6000.<br>\n",
    "X will sell <= 100 contracts, Y <= 90, Z <= 70.<br>\n",
    "We need to minimsie the cost of purchasing 150 contracts."
   ]
  },
  {
   "cell_type": "markdown",
   "metadata": {},
   "source": [
    "$$Minimise \\Sigma_{i=x}^{i=z} IsOrder[variable Cost_{i} * quantity_{i} + fixed Cost_{i}]$$\n",
    "Where\n",
    "$$\\text{IsOrder = 1 if buying from dealer i, 0 otherwise} $$\n",
    "$$30 <= quantity_{x} <= 100$$\n",
    "$$30 <= quantity_{y} <= 90$$\n",
    "$$30 <= quantity_{z} <= 70$$\n",
    "$$\\Sigma_{i=x}^{i=z} quantity_{i} = 150$$"
   ]
  },
  {
   "cell_type": "code",
   "execution_count": 3,
   "metadata": {},
   "outputs": [
    {
     "name": "stdout",
     "output_type": "stream",
     "text": [
      "order_X = 0.0\n",
      "order_Y = 0.0\n",
      "order_Z = 0.0\n",
      "quantity_X = 0.0\n",
      "quantity_Y = 150.0\n",
      "quantity_Z = 0.0\n"
     ]
    },
    {
     "name": "stderr",
     "output_type": "stream",
     "text": [
      "c:\\Users\\A\\VSCodeRepos\\Financial-modelling-in-Python\\.venv\\Lib\\site-packages\\pulp\\pulp.py:1298: UserWarning: Spaces are not permitted in the name. Converted to '_'\n",
      "  warnings.warn(\"Spaces are not permitted in the name. Converted to '_'\")\n"
     ]
    }
   ],
   "source": [
    "import pulp\n",
    "dealers = [\"X\", \"Y\", \"Z\"]\n",
    "variable_costs = {\"X\": 500, \"Y\": 350, \"Z\": 450}\n",
    "fixed_costs = {\"X\": 4000, \"Y\": 2000, \"Z\": 6000}\n",
    "\n",
    "quantities = pulp.LpVariable.dicts(\"quantity\", dealers, lowBound=0, cat=pulp.LpInteger)\n",
    "is_orders = pulp.LpVariable.dicts(\"order\", dealers, cat=pulp.LpBinary) #indicates if we should enter transaction with a dealer\n",
    "\n",
    "model = pulp.LpProblem(\"cost minimisation problem\", pulp.LpMinimize)\n",
    "model += sum([(variable_costs[i]) * quantities[i] + fixed_costs[i] * is_orders[i] for i in dealers]), \"minimise portfolio cost\"\n",
    "model += sum([quantities[i] for i in dealers]) == 150, \"total contracts required\"\n",
    "model == 30 <= quantities[\"X\"] <= 100, \"constraint 1\"\n",
    "model == 30 <= quantities[\"Y\"] <= 90, \"constraint 2\"\n",
    "model == 30 <= quantities[\"Z\"] <= 70, \"constraint 3\"\n",
    "model.solve()\n",
    "\n",
    "for i in model.variables():\n",
    "    print(i.name, \"=\", i.varValue)\n"
   ]
  }
 ],
 "metadata": {
  "kernelspec": {
   "display_name": ".venv",
   "language": "python",
   "name": "python3"
  },
  "language_info": {
   "codemirror_mode": {
    "name": "ipython",
    "version": 3
   },
   "file_extension": ".py",
   "mimetype": "text/x-python",
   "name": "python",
   "nbconvert_exporter": "python",
   "pygments_lexer": "ipython3",
   "version": "3.12.8"
  }
 },
 "nbformat": 4,
 "nbformat_minor": 2
}
