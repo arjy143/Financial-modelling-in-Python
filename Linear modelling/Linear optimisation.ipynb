{
 "cells": [
  {
   "cell_type": "markdown",
   "metadata": {},
   "source": [
    "This is something I'm familiar with. Maximising returns and minimising volatility within the bounds of certain constraints"
   ]
  }
 ],
 "metadata": {
  "language_info": {
   "name": "python"
  }
 },
 "nbformat": 4,
 "nbformat_minor": 2
}
