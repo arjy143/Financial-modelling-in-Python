{
 "cells": [
  {
   "cell_type": "markdown",
   "metadata": {},
   "source": [
    "We can also solve linear equations using matrices. If we want to build a portfolio of securities, and the allocation must meet constraints, then we can solve to find the amount."
   ]
  },
  {
   "cell_type": "markdown",
   "metadata": {},
   "source": [
    "$$2a + b + c = 4$$\n",
    "$$a + 3b + 2c= 5$$\n",
    "$$a = 6$$"
   ]
  },
  {
   "cell_type": "code",
   "execution_count": 2,
   "metadata": {},
   "outputs": [
    {
     "name": "stdout",
     "output_type": "stream",
     "text": [
      "[  6.  15. -23.]\n"
     ]
    }
   ],
   "source": [
    "import numpy as np\n",
    "A = np.array([[2,1,1],\n",
    "             [1,3,2],\n",
    "             [1,0,0]])\n",
    "B = np.array([4,5,6])\n",
    "\n",
    "print(np.linalg.solve(A,B))"
   ]
  },
  {
   "cell_type": "markdown",
   "metadata": {},
   "source": [
    "This means that we would need long positions of 6 units for a and 15 units for b, and a short position of 23 units for c.\n",
    "However, using matrices for large amounts of variables (securities) can become computationally exepnsive, so there are various methods for breaking the matrix into simpler ones for factorisation."
   ]
  },
  {
   "cell_type": "markdown",
   "metadata": {},
   "source": [
    "<h1>LU decomposition</h1>"
   ]
  },
  {
   "cell_type": "markdown",
   "metadata": {},
   "source": [
    "Lower upper factorisation - solve square systems of linear equations. It decomposes a matrix into a lower triangular matrix and an upper triangular matrix."
   ]
  },
  {
   "cell_type": "markdown",
   "metadata": {},
   "source": [
    "$\\begin{bmatrix}\n",
    "    a&b&c\\\\\n",
    "    d&e&f\\\\\n",
    "    g&h&i\n",
    "\\end{bmatrix}$\n",
    "$=$\n",
    "$\\begin{bmatrix}\n",
    "    l_{11}&0&0\\\\\n",
    "    l_{21}&l_{22}&0\\\\\n",
    "    l_{31}&l_{32}&l_{33}\n",
    "\\end{bmatrix}$\n",
    "$*$\n",
    "$\\begin{bmatrix}\n",
    "    l_{11}&l_{12}&l_{13}\\\\\n",
    "    0&l_{22}&l_{23}\\\\\n",
    "    0&0&l_{33}\n",
    "\\end{bmatrix}$"
   ]
  },
  {
   "cell_type": "code",
   "execution_count": 5,
   "metadata": {},
   "outputs": [
    {
     "name": "stdout",
     "output_type": "stream",
     "text": [
      "[  6.  15. -23.]\n"
     ]
    }
   ],
   "source": [
    "import scipy.linalg\n",
    "LU = scipy.linalg.lu_factor(A)\n",
    "x = scipy.linalg.lu_solve(LU, B)\n",
    "print(x)"
   ]
  },
  {
   "cell_type": "markdown",
   "metadata": {},
   "source": [
    "<h1>Cholesky decomposition</h1>"
   ]
  },
  {
   "cell_type": "markdown",
   "metadata": {},
   "source": [
    "This can be a faster way of solving systems of linear equations by exploiting symmetric matrices. However, the matrix being decomposed needs to be Hermitian. This means that it must be real-valued symmetric/square. It also must be a positive definite.\n",
    "We can use the following example:"
   ]
  },
  {
   "cell_type": "markdown",
   "metadata": {},
   "source": [
    "$A = \\begin{bmatrix}\n",
    "    10&-1&2&0\\\\\n",
    "    -1&11&-1&3\\\\\n",
    "    2&-1&10&-1\\\\\n",
    "    0&3&-1&8\\\\\n",
    "\\end{bmatrix}$\n",
    "$, x = $\n",
    "$\\begin{bmatrix}\n",
    "    a\\\\\n",
    "    b\\\\\n",
    "    c\\\\\n",
    "    d\\\\\n",
    "\\end{bmatrix}$\n",
    "$, B = $\n",
    "$\\begin{bmatrix}\n",
    "    6\\\\\n",
    "    25\\\\\n",
    "    -11\\\\\n",
    "    15\\\\\n",
    "\\end{bmatrix}$"
   ]
  },
  {
   "cell_type": "code",
   "execution_count": 10,
   "metadata": {},
   "outputs": [
    {
     "name": "stdout",
     "output_type": "stream",
     "text": [
      "L:\n",
      "[[ 3.16227766  0.          0.          0.        ]\n",
      " [-0.31622777  3.3015148   0.          0.        ]\n",
      " [ 0.63245553 -0.24231301  3.08889696  0.        ]\n",
      " [ 0.          0.9086738  -0.25245792  2.6665665 ]]\n",
      "verification:\n",
      "[[10. -1.  2.  0.]\n",
      " [-1. 11. -1.  3.]\n",
      " [ 2. -1. 10. -1.]\n",
      " [ 0.  3. -1.  8.]]\n",
      "Y:\n",
      "[ 1.8973666   7.75401642 -3.34135488  2.6665665 ]\n",
      "X:\n",
      "[ 1.  2. -1.  1.]\n"
     ]
    }
   ],
   "source": [
    "import numpy as np\n",
    "A = np.array([[10,-1,2,0],[-1,11,-1,3],[2,-1,10,-1],[0,3,-1,8]])\n",
    "B = np.array([6,25,-11,15])\n",
    "L = np.linalg.cholesky(A)\n",
    "\n",
    "print(\"L:\")\n",
    "print(L)\n",
    "#You can verify that this is correct by multiplying L with the conjugate transpose\n",
    "print(\"verification:\")\n",
    "print(np.dot(L,L.T.conj()))\n",
    "#Solve for L^T x:\n",
    "print(\"Y:\")\n",
    "y = np.linalg.solve(L,B)\n",
    "print(y)\n",
    "#solve for x by solving again using conjugate transpose\n",
    "print(\"X:\")\n",
    "x = np.linalg.solve(L.T.conj(), y)\n",
    "print(x)"
   ]
  }
 ],
 "metadata": {
  "kernelspec": {
   "display_name": ".venv",
   "language": "python",
   "name": "python3"
  },
  "language_info": {
   "codemirror_mode": {
    "name": "ipython",
    "version": 3
   },
   "file_extension": ".py",
   "mimetype": "text/x-python",
   "name": "python",
   "nbconvert_exporter": "python",
   "pygments_lexer": "ipython3",
   "version": "3.12.8"
  }
 },
 "nbformat": 4,
 "nbformat_minor": 2
}
