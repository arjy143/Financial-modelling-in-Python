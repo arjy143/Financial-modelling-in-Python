{
 "cells": [
  {
   "cell_type": "markdown",
   "metadata": {},
   "source": [
    "Linear models often employed due to easier modelling capabilities and simplicity.\n",
    "Regression analysis widely used to estimate relationships between variables.\n",
    "Allocation of assets follows a linear pattern. Portfolio allocation can be represented as a system of equations, in a matrix form.\n",
    "We will cover:\n",
    "<li>Examining CAPM model with efficient frontier and capital market line</li>"
   ]
  },
  {
   "cell_type": "markdown",
   "metadata": {},
   "source": [
    "<b>Capital asset pricing model and the security market line</b>"
   ]
  },
  {
   "cell_type": "markdown",
   "metadata": {},
   "source": [
    "CAPM - relationship between risk and rates of return in a security described as follows:\n"
   ]
  },
  {
   "cell_type": "markdown",
   "metadata": {},
   "source": [
    "$R_{i} = R_{f} + \\beta_{i}(R_{mkt} - R_{f})$"
   ]
  },
  {
   "cell_type": "markdown",
   "metadata": {},
   "source": [
    "security i, returns $R_{i}$, its beta as $\\beta$."
   ]
  }
 ],
 "metadata": {
  "language_info": {
   "name": "python"
  }
 },
 "nbformat": 4,
 "nbformat_minor": 2
}
